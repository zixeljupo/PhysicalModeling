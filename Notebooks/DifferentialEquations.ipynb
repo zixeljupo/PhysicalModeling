{
 "cells": [
  {
   "cell_type": "code",
   "execution_count": 1,
   "metadata": {},
   "outputs": [],
   "source": [
    "%matplotlib inline\n",
    "\n",
    "import matplotlib.pyplot as plt\n",
    "import numpy as np\n",
    "import scipy as sp\n",
    "import numpy.random as random\n",
    "import time\n",
    "import IPython"
   ]
  },
  {
   "cell_type": "code",
   "execution_count": 2,
   "metadata": {},
   "outputs": [],
   "source": [
    "def euler_step(f, t, y, dt):\n",
    "    return y + dt*f(t, y)\n",
    "\n",
    "\n",
    "def runge_kutta_step(f, t, y, dt):\n",
    "    k1 = dt*f(t, y)\n",
    "    k2 = dt*f(t + dt/2, y + k1/2)\n",
    "    k3 = dt*f(t + dt/2, y + k2/2)\n",
    "    k4 = dt*f(t + dt, y + k3)\n",
    "    return y + (k1 + 2*(k2 + k3) + k4)/6\n",
    "\n",
    "\n",
    "def differential_solver(f, t0, y0: np.ndarray, t1, dt=0.1, step_fn=runge_kutta_step):\n",
    "    \n",
    "    t = t0\n",
    "    y = y0\n",
    "    \n",
    "    steps_count = int(np.ceil((t1 - t0)/dt))\n",
    "    solution = np.zeros( (steps_count, ) + np.shape(y0), dtype=y0.dtype)\n",
    "    \n",
    "    for i in range(steps_count):\n",
    "        y = step_fn(f, t, y, dt)\n",
    "        solution[i] = y\n",
    "        t += dt\n",
    "    \n",
    "    return solution"
   ]
  },
  {
   "cell_type": "code",
   "execution_count": 3,
   "metadata": {},
   "outputs": [],
   "source": [
    "def set_plot_size(sandbox):\n",
    "\n",
    "    max_w = 15\n",
    "    max_h = 7\n",
    "\n",
    "    h, w = 0, 0\n",
    "    if sandbox[0]/max_w > sandbox[1]/max_h:\n",
    "        w = max_w\n",
    "        h = sandbox[1] / sandbox[0] * w\n",
    "    else:\n",
    "        h = max_h\n",
    "        w = sandbox[0] / sandbox[1] * h\n",
    "\n",
    "    plt.figure(figsize=(w, h))"
   ]
  },
  {
   "cell_type": "code",
   "execution_count": 4,
   "metadata": {},
   "outputs": [],
   "source": [
    "def test_function(t, y):\n",
    "    return 2*(t*t + y)\n",
    "\n",
    "\n",
    "def planet_function(t, y):\n",
    "    \n",
    "    r = y[:2]\n",
    "    v = y[2:]\n",
    "    \n",
    "    dr_dt = v\n",
    "    dv_dt = -10000*r/(np.linalg.norm(r) ** 3)\n",
    "    \n",
    "    return np.concatenate((dr_dt, dv_dt))\n",
    "\n",
    "\n",
    "def f_analityc(t, y):\n",
    "    return 1.5*np.exp(2*t) - t*t - t - 0.5"
   ]
  },
  {
   "cell_type": "code",
   "execution_count": 5,
   "metadata": {},
   "outputs": [],
   "source": [
    "sandbox = (250.0, 250.0)\n",
    "\n",
    "t0 = 0.0\n",
    "dt = 0.2\n",
    "t1 = dt * 120 # 140 steps with dt\n",
    "\n",
    "y0 = np.array([100, 0, 0, 5], dtype=np.float32)"
   ]
  },
  {
   "cell_type": "code",
   "execution_count": 7,
   "metadata": {
    "scrolled": false
   },
   "outputs": [
    {
     "name": "stdout",
     "output_type": "stream",
     "text": [
      "0.0 1.020202 1.0202020100401337\n",
      "0.01 1.0408162 1.0408161612885825\n",
      "0.02 1.0618548 1.0618548198180395\n",
      "0.03 1.0833306 1.083330601512438\n",
      "0.04 1.1052564 1.1052563771134716\n",
      "0.05 1.1276454 1.1276452773690635\n",
      "0.06 1.1505108 1.1505106982858408\n",
      "0.07 1.1738664 1.1738663064877153\n",
      "0.08 1.1977261 1.1977260446827152\n",
      "0.09 1.2221042 1.2221041372402548\n"
     ]
    }
   ],
   "source": [
    "# set_plot_size(sandbox)\n",
    "\n",
    "# euler_solution = differential_solver(f=planet_function,\n",
    "#                                      t0=t0, y0=y0, t1=t1, dt=dt,\n",
    "#                                      step_fn=euler_step)\n",
    "\n",
    "# kutta_solution = differential_solver(f=planet_function,\n",
    "#                                      t0=t0, y0=y0, t1=t1, dt=dt,\n",
    "#                                      step_fn=runge_kutta_step)\n",
    "\n",
    "# steps_count = np.shape(euler_solution)[0]\n",
    "\n",
    "# plt.axis([-sandbox[0] / 2, sandbox[0] / 2, -sandbox[1] / 2, sandbox[1] / 2])\n",
    "# plt.plot(0.0, 0.0, 'yo', markersize=15)\n",
    "# plt.plot(euler_solution[:, 0], euler_solution[:, 1], 'r')\n",
    "# plt.plot(kutta_solution[:, 0], kutta_solution[:, 1], 'g')\n",
    "# plt.show()\n",
    "\n",
    "\n",
    "\n",
    "t0 = 0.0\n",
    "dt = 0.01\n",
    "t1 = 1.0\n",
    "\n",
    "y0 = np.array([1.0], dtype=np.float32)\n",
    "\n",
    "solution = differential_solver(f=test_function,\n",
    "                               t0=t0, y0=y0, t1=t1, dt=dt,\n",
    "                               step_fn=runge_kutta_step)\n",
    "\n",
    "for n in range(10):\n",
    "    t = n*dt\n",
    "    print(str(t) + \" \" + str(solution[n][0]) + \" \" + str(f_analityc(t + dt, 0)))\n",
    "    \n",
    "    \n",
    "\n",
    "# t = np.linspace(0.0, 1.0, dt)\n",
    "\n",
    "# plt.plot(t, solution, 'r')\n",
    "# plt.show()\n",
    "\n",
    "\n",
    "# for step in range(steps_count - 1):\n",
    "\n",
    "#     t = t0 + dt * step\n",
    "\n",
    "#     plt.clf()\n",
    "#     plt.title(\"{:f}\".format(t))\n",
    "#     plt.axis([-sandbox[0] / 2, sandbox[0] / 2, -sandbox[1] / 2, sandbox[1] / 2])\n",
    "    \n",
    "#     plt.plot(0.0, 0.0, 'yo', markersize=15)\n",
    "#     plt.plot(euler_solution[:(step + 1), 0], euler_solution[:(step + 1), 1], 'r')\n",
    "#     plt.plot(euler_solution[step, 0], euler_solution[step, 1], 'r*')\n",
    "#     plt.plot(kutta_solution[:(step + 1), 0], kutta_solution[:(step + 1), 1], 'g')\n",
    "#     plt.plot(kutta_solution[step, 0], kutta_solution[step, 1], 'g*')\n",
    "\n",
    "#     data = plt.gcf()\n",
    "#     %time IPython.display.display(data)\n",
    "#     IPython.display.clear_output(wait=True)\n",
    "\n",
    "#     #time.sleep(dt)\n"
   ]
  },
  {
   "cell_type": "code",
   "execution_count": null,
   "metadata": {},
   "outputs": [],
   "source": []
  }
 ],
 "metadata": {
  "kernelspec": {
   "display_name": "Python 3",
   "language": "python",
   "name": "python3"
  },
  "language_info": {
   "codemirror_mode": {
    "name": "ipython",
    "version": 3
   },
   "file_extension": ".py",
   "mimetype": "text/x-python",
   "name": "python",
   "nbconvert_exporter": "python",
   "pygments_lexer": "ipython3",
   "version": "3.5.2"
  }
 },
 "nbformat": 4,
 "nbformat_minor": 2
}
